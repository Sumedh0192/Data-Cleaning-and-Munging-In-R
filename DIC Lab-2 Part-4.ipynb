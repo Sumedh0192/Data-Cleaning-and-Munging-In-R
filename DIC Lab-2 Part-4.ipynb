{
 "cells": [
  {
   "cell_type": "markdown",
   "metadata": {},
   "source": [
    "# In this part I have considered mutiple variants of questions and also their visual representations. #The questions I have used have answers starting from a simple single value extraction to multi dimentation representations."
   ]
  },
  {
   "cell_type": "code",
   "execution_count": 2,
   "metadata": {
    "collapsed": false
   },
   "outputs": [
    {
     "name": "stderr",
     "output_type": "stream",
     "text": [
      "Installing package into 'C:/Users/User/Documents/R/win-library/3.3'\n",
      "(as 'lib' is unspecified)\n"
     ]
    },
    {
     "name": "stdout",
     "output_type": "stream",
     "text": [
      "package 'dplyr' successfully unpacked and MD5 sums checked\n",
      "\n",
      "The downloaded binary packages are in\n",
      "\tC:\\Users\\User\\AppData\\Local\\Temp\\RtmpKcBhAK\\downloaded_packages\n"
     ]
    },
    {
     "name": "stderr",
     "output_type": "stream",
     "text": [
      "Installing package into 'C:/Users/User/Documents/R/win-library/3.3'\n",
      "(as 'lib' is unspecified)\n"
     ]
    },
    {
     "name": "stdout",
     "output_type": "stream",
     "text": [
      "package 'sqldf' successfully unpacked and MD5 sums checked\n",
      "\n",
      "The downloaded binary packages are in\n",
      "\tC:\\Users\\User\\AppData\\Local\\Temp\\RtmpKcBhAK\\downloaded_packages\n"
     ]
    },
    {
     "name": "stderr",
     "output_type": "stream",
     "text": [
      "Installing package into 'C:/Users/User/Documents/R/win-library/3.3'\n",
      "(as 'lib' is unspecified)\n"
     ]
    },
    {
     "name": "stdout",
     "output_type": "stream",
     "text": [
      "package 'ggplot2' successfully unpacked and MD5 sums checked\n",
      "\n",
      "The downloaded binary packages are in\n",
      "\tC:\\Users\\User\\AppData\\Local\\Temp\\RtmpKcBhAK\\downloaded_packages\n"
     ]
    }
   ],
   "source": [
    "install.packages('dplyr', repos='https://cran.r-project.org/')\n",
    "install.packages('sqldf', repos='https://cran.r-project.org/')\n",
    "install.packages('ggplot2', repos='https://cran.r-project.org/')"
   ]
  },
  {
   "cell_type": "markdown",
   "metadata": {},
   "source": [
    "1. Installing required packages for querying data and to represent it."
   ]
  },
  {
   "cell_type": "code",
   "execution_count": 3,
   "metadata": {
    "collapsed": false
   },
   "outputs": [
    {
     "name": "stderr",
     "output_type": "stream",
     "text": [
      "Warning message:\n",
      "\"package 'dplyr' was built under R version 3.3.3\"\n",
      "Attaching package: 'dplyr'\n",
      "\n",
      "The following objects are masked from 'package:stats':\n",
      "\n",
      "    filter, lag\n",
      "\n",
      "The following objects are masked from 'package:base':\n",
      "\n",
      "    intersect, setdiff, setequal, union\n",
      "\n",
      "Warning message:\n",
      "\"package 'sqldf' was built under R version 3.3.3\"Loading required package: gsubfn\n",
      "Warning message:\n",
      "\"package 'gsubfn' was built under R version 3.3.3\"Loading required package: proto\n",
      "Could not load tcltk.  Will use slower R code instead.\n",
      "Loading required package: RSQLite\n",
      "Warning message:\n",
      "\"package 'RSQLite' was built under R version 3.3.3\"Warning message:\n",
      "\"package 'ggplot2' was built under R version 3.3.3\""
     ]
    }
   ],
   "source": [
    "library(dplyr)\n",
    "library(sqldf)\n",
    "library(ggplot2)"
   ]
  },
  {
   "cell_type": "markdown",
   "metadata": {},
   "source": [
    "1. Adding packages to Library."
   ]
  },
  {
   "cell_type": "code",
   "execution_count": 4,
   "metadata": {
    "collapsed": true
   },
   "outputs": [],
   "source": [
    "allData <- read.csv(\"Gaming_Jobs_Broadband.csv\")"
   ]
  },
  {
   "cell_type": "markdown",
   "metadata": {},
   "source": [
    "1. Fetching all the data from the data set csv file"
   ]
  },
  {
   "cell_type": "code",
   "execution_count": 5,
   "metadata": {
    "collapsed": false
   },
   "outputs": [],
   "source": [
    "requiredData <- select(allData,sex,marital,date1a,date2a,act87a,act87b,party,race,bbsmart1,bbsmart2,bbsmart3a,bbsmart3b,bbsmart4,date1a,date4a,date4b,stud,snsjob1a,snsjob1b,snsjob1c,snsjob2a,snsjob2b,age,zipcode,educ2,inc)"
   ]
  },
  {
   "cell_type": "markdown",
   "metadata": {},
   "source": [
    "1. Querying for pnly the columns required for the Question and Answers from the complete dataset."
   ]
  },
  {
   "cell_type": "code",
   "execution_count": 6,
   "metadata": {
    "collapsed": true
   },
   "outputs": [],
   "source": [
    "write.csv(requiredData, file = \"QAData.csv\", row.names=FALSE)"
   ]
  },
  {
   "cell_type": "markdown",
   "metadata": {},
   "source": [
    "1. Write the required DataFrame to CSV thus avoiding any references to the original data.\n",
    "2. This csv file will be used to fetch relevant data for answering questions."
   ]
  },
  {
   "cell_type": "markdown",
   "metadata": {},
   "source": [
    "Question 1:\n",
    "-> Get the percentage of users who had broadband connection and want to have the connection but find it too expensive."
   ]
  },
  {
   "cell_type": "code",
   "execution_count": 7,
   "metadata": {
    "collapsed": false
   },
   "outputs": [
    {
     "data": {
      "text/html": [
       "<table>\n",
       "<thead><tr><th scope=col>bbsmart1</th><th scope=col>bbsmart2</th><th scope=col>bbsmart3a</th><th scope=col>bbsmart4</th></tr></thead>\n",
       "<tbody>\n",
       "\t<tr><td>NA</td><td>NA</td><td>NA</td><td>NA</td></tr>\n",
       "\t<tr><td> 8</td><td> 2</td><td> 8</td><td>NA</td></tr>\n",
       "\t<tr><td> 2</td><td> 2</td><td> 2</td><td>NA</td></tr>\n",
       "\t<tr><td>NA</td><td>NA</td><td>NA</td><td>NA</td></tr>\n",
       "\t<tr><td>NA</td><td>NA</td><td>NA</td><td>NA</td></tr>\n",
       "\t<tr><td>NA</td><td>NA</td><td>NA</td><td>NA</td></tr>\n",
       "</tbody>\n",
       "</table>\n"
      ],
      "text/latex": [
       "\\begin{tabular}{r|llll}\n",
       " bbsmart1 & bbsmart2 & bbsmart3a & bbsmart4\\\\\n",
       "\\hline\n",
       "\t NA & NA & NA & NA\\\\\n",
       "\t  8 &  2 &  8 & NA\\\\\n",
       "\t  2 &  2 &  2 & NA\\\\\n",
       "\t NA & NA & NA & NA\\\\\n",
       "\t NA & NA & NA & NA\\\\\n",
       "\t NA & NA & NA & NA\\\\\n",
       "\\end{tabular}\n"
      ],
      "text/markdown": [
       "\n",
       "bbsmart1 | bbsmart2 | bbsmart3a | bbsmart4 | \n",
       "|---|---|---|---|---|---|\n",
       "| NA | NA | NA | NA | \n",
       "|  8 |  2 |  8 | NA | \n",
       "|  2 |  2 |  2 | NA | \n",
       "| NA | NA | NA | NA | \n",
       "| NA | NA | NA | NA | \n",
       "| NA | NA | NA | NA | \n",
       "\n",
       "\n"
      ],
      "text/plain": [
       "  bbsmart1 bbsmart2 bbsmart3a bbsmart4\n",
       "1 NA       NA       NA        NA      \n",
       "2  8        2        8        NA      \n",
       "3  2        2        2        NA      \n",
       "4 NA       NA       NA        NA      \n",
       "5 NA       NA       NA        NA      \n",
       "6 NA       NA       NA        NA      "
      ]
     },
     "metadata": {},
     "output_type": "display_data"
    }
   ],
   "source": [
    "Q1DataSet <- select(requiredData,bbsmart1,bbsmart2,bbsmart3a,bbsmart4)\n",
    "head(Q1DataSet)"
   ]
  },
  {
   "cell_type": "markdown",
   "metadata": {},
   "source": [
    "1. This is a simple single value extraction question.\n",
    "2. We need to identify the broadband users who have disconnected as it is expensive.\n",
    "3. 'bbsmart1' is used to fetch the users who had broadband connection before\n",
    "4. 'bbsmart2' is used to refine the users who want still want to have the broadband connection\n",
    "5. 'bbsmart3a' and 'bbsmart4' are used to further refine the users to who find it expensive"
   ]
  },
  {
   "cell_type": "code",
   "execution_count": 8,
   "metadata": {
    "collapsed": false,
    "scrolled": true
   },
   "outputs": [
    {
     "data": {
      "text/html": [
       "<table>\n",
       "<thead><tr><th></th><th scope=col>bbsmart1</th><th scope=col>bbsmart2</th><th scope=col>bbsmart3a</th><th scope=col>bbsmart4</th></tr></thead>\n",
       "<tbody>\n",
       "\t<tr><th scope=row>2</th><td>8 </td><td>2 </td><td>8 </td><td>NA</td></tr>\n",
       "\t<tr><th scope=row>3</th><td>2 </td><td>2 </td><td>2 </td><td>NA</td></tr>\n",
       "\t<tr><th scope=row>7</th><td>2 </td><td>2 </td><td>2 </td><td> 6</td></tr>\n",
       "\t<tr><th scope=row>8</th><td>2 </td><td>2 </td><td>2 </td><td>NA</td></tr>\n",
       "\t<tr><th scope=row>10</th><td>2 </td><td>2 </td><td>2 </td><td>NA</td></tr>\n",
       "\t<tr><th scope=row>17</th><td>2 </td><td>2 </td><td>2 </td><td> 6</td></tr>\n",
       "</tbody>\n",
       "</table>\n"
      ],
      "text/latex": [
       "\\begin{tabular}{r|llll}\n",
       "  & bbsmart1 & bbsmart2 & bbsmart3a & bbsmart4\\\\\n",
       "\\hline\n",
       "\t2 & 8  & 2  & 8  & NA\\\\\n",
       "\t3 & 2  & 2  & 2  & NA\\\\\n",
       "\t7 & 2  & 2  & 2  &  6\\\\\n",
       "\t8 & 2  & 2  & 2  & NA\\\\\n",
       "\t10 & 2  & 2  & 2  & NA\\\\\n",
       "\t17 & 2  & 2  & 2  &  6\\\\\n",
       "\\end{tabular}\n"
      ],
      "text/markdown": [
       "\n",
       "| <!--/--> | bbsmart1 | bbsmart2 | bbsmart3a | bbsmart4 | \n",
       "|---|---|---|---|---|---|\n",
       "| 2 | 8  | 2  | 8  | NA | \n",
       "| 3 | 2  | 2  | 2  | NA | \n",
       "| 7 | 2  | 2  | 2  |  6 | \n",
       "| 8 | 2  | 2  | 2  | NA | \n",
       "| 10 | 2  | 2  | 2  | NA | \n",
       "| 17 | 2  | 2  | 2  |  6 | \n",
       "\n",
       "\n"
      ],
      "text/plain": [
       "   bbsmart1 bbsmart2 bbsmart3a bbsmart4\n",
       "2  8        2        8         NA      \n",
       "3  2        2        2         NA      \n",
       "7  2        2        2          6      \n",
       "8  2        2        2         NA      \n",
       "10 2        2        2         NA      \n",
       "17 2        2        2          6      "
      ]
     },
     "metadata": {},
     "output_type": "display_data"
    }
   ],
   "source": [
    "Q1DataSet <- Q1DataSet[rowSums(is.na(Q1DataSet))!=4,]\n",
    "head(Q1DataSet)"
   ]
  },
  {
   "cell_type": "markdown",
   "metadata": {
    "collapsed": true
   },
   "source": [
    "1. The data obtained is not clean and we need to remove the rows which are of no use.\n",
    "2. We are removing the rows which have all the values as NA."
   ]
  },
  {
   "cell_type": "code",
   "execution_count": 9,
   "metadata": {
    "collapsed": false
   },
   "outputs": [
    {
     "data": {
      "text/html": [
       "62.5"
      ],
      "text/latex": [
       "62.5"
      ],
      "text/markdown": [
       "62.5"
      ],
      "text/plain": [
       "[1] 62.5"
      ]
     },
     "metadata": {},
     "output_type": "display_data"
    }
   ],
   "source": [
    "A1_TotalPercentageOfUsersCancelled <- nrow(filter(Q1DataSet, bbsmart1 == 1, bbsmart2 == 1, bbsmart4 == 1 | bbsmart3a == 1))/nrow(filter(Q1DataSet, bbsmart1 == 1, bbsmart2 == 1))*100\n",
    "A1_TotalPercentageOfUsersCancelled"
   ]
  },
  {
   "cell_type": "markdown",
   "metadata": {},
   "source": [
    "1. After cleaning the data, the percentage of users who want to have a broadband connection but find it expensive is calculated by using row filters and appropriate conditions.\n",
    "2. Thus the data set can be used to get a direct answer to a question."
   ]
  },
  {
   "cell_type": "markdown",
   "metadata": {},
   "source": [
    "Question 2:\n",
    "-> Find the gender split of the online job seekers who have lost their jobs due to inappropriate content on their social media account."
   ]
  },
  {
   "cell_type": "code",
   "execution_count": 10,
   "metadata": {
    "collapsed": false,
    "scrolled": true
   },
   "outputs": [
    {
     "data": {
      "text/html": [
       "<table>\n",
       "<thead><tr><th scope=col>STUDENT</th><th scope=col>PERCENT</th></tr></thead>\n",
       "<tbody>\n",
       "\t<tr><td>MALE_STUDENTS   </td><td>44.4444444444444</td></tr>\n",
       "\t<tr><td>FEMALE_STUDENTS </td><td>55.5555555555556</td></tr>\n",
       "</tbody>\n",
       "</table>\n"
      ],
      "text/latex": [
       "\\begin{tabular}{r|ll}\n",
       " STUDENT & PERCENT\\\\\n",
       "\\hline\n",
       "\t MALE\\_STUDENTS   & 44.4444444444444 \\\\\n",
       "\t FEMALE\\_STUDENTS & 55.5555555555556 \\\\\n",
       "\\end{tabular}\n"
      ],
      "text/markdown": [
       "\n",
       "STUDENT | PERCENT | \n",
       "|---|---|\n",
       "| MALE_STUDENTS    | 44.4444444444444 | \n",
       "| FEMALE_STUDENTS  | 55.5555555555556 | \n",
       "\n",
       "\n"
      ],
      "text/plain": [
       "  STUDENT         PERCENT         \n",
       "1 MALE_STUDENTS   44.4444444444444\n",
       "2 FEMALE_STUDENTS 55.5555555555556"
      ]
     },
     "metadata": {},
     "output_type": "display_data"
    }
   ],
   "source": [
    "Q2DataFrame <- read.csv.sql(\"QAData.csv\",\"Select (CAST((SELECT COUNT(*) FROM file WHERE \n",
    "                                                   (snsjob1a = 1 OR snsjob1b = 1 OR snsjob1c = 1) \n",
    "                                                    AND snsjob2b=1 AND sex == 1) AS FLOAT)/CAST(COUNT(*) AS FLOAT)*100) AS MALE_STUDENTS,\n",
    "                                                 (CAST((SELECT COUNT(*) FROM file WHERE \n",
    "                                                   (snsjob1a = 1 OR snsjob1b = 1 OR snsjob1c = 1) \n",
    "                                                    AND snsjob2b=1 AND sex == 2) AS FLOAT)/CAST(COUNT(*) AS FLOAT)*100) AS FEMALE_STUDENTS\n",
    "                                          FROM file WHERE (snsjob1a = 1 OR snsjob1b = 1 OR snsjob1c = 1) AND snsjob2b=1\", \n",
    "                            sep = \",\")\n",
    "Q2DataFrame <- t(Q2DataFrame)\n",
    "colnames(Q2DataFrame) <- c(\"PERCENT\")\n",
    "Q2DataFrame <- cbind(STUDENT = rownames(Q2DataFrame),Q2DataFrame)\n",
    "rownames(Q2DataFrame) <- c()\n",
    "Q2DataFrame <- as.data.frame(Q2DataFrame)\n",
    "head(Q2DataFrame)"
   ]
  },
  {
   "cell_type": "markdown",
   "metadata": {},
   "source": [
    "1. Here I have used read.csv.sql to directly read from the stored csv.\n",
    "2. The data is queried based on the following fields:\n",
    "    i.  'snsjob1a', 'snsjob1b' and 'snsjob1c' are used to identify the users who apply on social media for jobs\n",
    "    ii. 'snsjob2b' is used to filter the records based on who has lost the job because of their content on social media\n",
    "3. I have used subqueries to calculate the percentage split for both the genders"
   ]
  },
  {
   "cell_type": "code",
   "execution_count": 11,
   "metadata": {
    "collapsed": false
   },
   "outputs": [
    {
     "data": {
      "image/png": "[encoded data removed]",
      "text/plain": [
       "Plot with title \"GENDER CHART TO IDENTIFY STUDENTS LOSING JOB\n",
       " DUE TO INAPPROPRIATE SOCIAL MEDIA CONTENT\""
      ]
     },
     "metadata": {},
     "output_type": "display_data"
    }
   ],
   "source": [
    "pie(as.numeric(as.character(Q2DataFrame$PERCENT)), labels = as.character(Q2DataFrame$STUDENT), col = c(\"red\", \"yellow\", \"blue\"),\n",
    "main=\"GENDER CHART TO IDENTIFY STUDENTS LOSING JOB\\n DUE TO INAPPROPRIATE SOCIAL MEDIA CONTENT\")"
   ]
  },
  {
   "cell_type": "markdown",
   "metadata": {},
   "source": [
    "1. The data is represented using a simple pie chart distinguishing the female and male user percentages."
   ]
  },
  {
   "cell_type": "markdown",
   "metadata": {},
   "source": [
    "Question 3:\n",
    "-> Find the number of online dating users. Plot the count against their gender and marital status. "
   ]
  },
  {
   "cell_type": "code",
   "execution_count": 12,
   "metadata": {
    "collapsed": false
   },
   "outputs": [
    {
     "data": {
      "text/html": [
       "<table>\n",
       "<thead><tr><th scope=col>GENDER</th><th scope=col>MARITAL</th><th scope=col>USERS</th></tr></thead>\n",
       "<tbody>\n",
       "\t<tr><td>MALE                 </td><td>Married              </td><td>35                   </td></tr>\n",
       "\t<tr><td>MALE                 </td><td>Living with a partner</td><td>12                   </td></tr>\n",
       "\t<tr><td>MALE                 </td><td>Divorced             </td><td>21                   </td></tr>\n",
       "\t<tr><td>MALE                 </td><td>Separated            </td><td> 5                   </td></tr>\n",
       "\t<tr><td>MALE                 </td><td>Widowed              </td><td> 3                   </td></tr>\n",
       "\t<tr><td>MALE                 </td><td>Never been married   </td><td>72                   </td></tr>\n",
       "</tbody>\n",
       "</table>\n"
      ],
      "text/latex": [
       "\\begin{tabular}{r|lll}\n",
       " GENDER & MARITAL & USERS\\\\\n",
       "\\hline\n",
       "\t MALE                  & Married               & 35                   \\\\\n",
       "\t MALE                  & Living with a partner & 12                   \\\\\n",
       "\t MALE                  & Divorced              & 21                   \\\\\n",
       "\t MALE                  & Separated             &  5                   \\\\\n",
       "\t MALE                  & Widowed               &  3                   \\\\\n",
       "\t MALE                  & Never been married    & 72                   \\\\\n",
       "\\end{tabular}\n"
      ],
      "text/markdown": [
       "\n",
       "GENDER | MARITAL | USERS | \n",
       "|---|---|---|---|---|---|\n",
       "| MALE                  | Married               | 35                    | \n",
       "| MALE                  | Living with a partner | 12                    | \n",
       "| MALE                  | Divorced              | 21                    | \n",
       "| MALE                  | Separated             |  5                    | \n",
       "| MALE                  | Widowed               |  3                    | \n",
       "| MALE                  | Never been married    | 72                    | \n",
       "\n",
       "\n"
      ],
      "text/plain": [
       "  GENDER MARITAL               USERS\n",
       "1 MALE   Married               35   \n",
       "2 MALE   Living with a partner 12   \n",
       "3 MALE   Divorced              21   \n",
       "4 MALE   Separated              5   \n",
       "5 MALE   Widowed                3   \n",
       "6 MALE   Never been married    72   "
      ]
     },
     "metadata": {},
     "output_type": "display_data"
    }
   ],
   "source": [
    "Q3DataFrame <- read.csv.sql(\"QAData.csv\",\"Select (CASE \n",
    "                                                    WHEN sex=1 THEN 'MALE' \n",
    "                                                    WHEN sex=2 THEN 'FEMALE' END\n",
    "                                                 ) AS GENDER, \n",
    "                                                 (CASE\n",
    "                                                    WHEN marital=1 THEN 'Married'\n",
    "                                                    WHEN marital=2 THEN 'Living with a partner'\n",
    "                                                    WHEN marital=3 THEN 'Divorced'\n",
    "                                                    WHEN marital=4 THEN 'Separated'\n",
    "                                                    WHEN marital=5 THEN 'Widowed'\n",
    "                                                    WHEN marital=6 THEN 'Never been married' END\n",
    "                                                 ) AS MARITAL, \n",
    "                                                  count(*) AS USERS \n",
    "                                         From file where (date1a=1 OR date2a=1) AND marital!=8 AND marital!=9 AND marital!='' Group by sex, marital\")\n",
    "head(Q3DataFrame)"
   ]
  },
  {
   "cell_type": "markdown",
   "metadata": {},
   "source": [
    "1. Here the records are queried from csv file and in the query conditions like 'marital!=8' have been put to avoid any useless or unclean data. \n",
    "2. Below are the fields used for this question:\n",
    "    i.   'Sex' used to identify the gender of the user\n",
    "    ii.  'Marital' used to identify the marital status of the user\n",
    "    iii. 'date1a' and 'date2a' are used to identify the online dating users.\n",
    "3. Group By clause has been used to get a well structured dataframe."
   ]
  },
  {
   "cell_type": "code",
   "execution_count": 13,
   "metadata": {
    "collapsed": false
   },
   "outputs": [
    {
     "data": {
      "image/png": "[encoded data removed]",
      "text/plain": [
       "plot without title"
      ]
     },
     "metadata": {},
     "output_type": "display_data"
    }
   ],
   "source": [
    "PointGraph <- ggplot(Q3DataFrame, aes(x=MARITAL, y=USERS,group=GENDER)) + \n",
    "  geom_point(data = subset(Q3DataFrame,GENDER=='MALE'), aes(x = MARITAL, y = USERS, color = \"MALE\"), colour = \"red\", size = 3) +\n",
    "  geom_point(data = subset(Q3DataFrame,GENDER=='FEMALE'), aes(x = MARITAL, y = USERS, color = \"FEMALE\"), colour = \"blue\", size = 3)  +\n",
    "  xlab('Income') +\n",
    "  ylab('Number Of People')\n",
    "\n",
    "show(PointGraph)"
   ]
  },
  {
   "cell_type": "markdown",
   "metadata": {},
   "source": [
    "1. The data is used to plot a point graph with X axis as the marital status and Y axis as the number of users. Red points represent male users and blue points represent female users.\n",
    "2. The graph is plotted over 3 columns and gives us a definitive understanding of the online dating users, with unmarried males using it the most."
   ]
  },
  {
   "cell_type": "markdown",
   "metadata": {},
   "source": [
    "Question 4: \n",
    "-> Which age group is using the social media the most."
   ]
  },
  {
   "cell_type": "code",
   "execution_count": 14,
   "metadata": {
    "collapsed": false,
    "scrolled": true
   },
   "outputs": [
    {
     "name": "stderr",
     "output_type": "stream",
     "text": [
      "Warning message:\n",
      "\"closing unused connection 4 (QAData.csv)\""
     ]
    },
    {
     "data": {
      "text/html": [
       "<table>\n",
       "<thead><tr><th scope=col>AGE_RANGE</th><th scope=col>COUNT</th></tr></thead>\n",
       "<tbody>\n",
       "\t<tr><td>COUNT_1_10 </td><td>0          </td></tr>\n",
       "\t<tr><td>COUNT_11_20</td><td>69         </td></tr>\n",
       "\t<tr><td>COUNT_21_30</td><td>241        </td></tr>\n",
       "\t<tr><td>COUNT_31_40</td><td>206        </td></tr>\n",
       "\t<tr><td>COUNT_41_50</td><td>209        </td></tr>\n",
       "\t<tr><td>COUNT_51_60</td><td>213        </td></tr>\n",
       "</tbody>\n",
       "</table>\n"
      ],
      "text/latex": [
       "\\begin{tabular}{r|ll}\n",
       " AGE\\_RANGE & COUNT\\\\\n",
       "\\hline\n",
       "\t COUNT\\_1\\_10  & 0              \\\\\n",
       "\t COUNT\\_11\\_20 & 69             \\\\\n",
       "\t COUNT\\_21\\_30 & 241            \\\\\n",
       "\t COUNT\\_31\\_40 & 206            \\\\\n",
       "\t COUNT\\_41\\_50 & 209            \\\\\n",
       "\t COUNT\\_51\\_60 & 213            \\\\\n",
       "\\end{tabular}\n"
      ],
      "text/markdown": [
       "\n",
       "AGE_RANGE | COUNT | \n",
       "|---|---|---|---|---|---|\n",
       "| COUNT_1_10  | 0           | \n",
       "| COUNT_11_20 | 69          | \n",
       "| COUNT_21_30 | 241         | \n",
       "| COUNT_31_40 | 206         | \n",
       "| COUNT_41_50 | 209         | \n",
       "| COUNT_51_60 | 213         | \n",
       "\n",
       "\n"
      ],
      "text/plain": [
       "  AGE_RANGE   COUNT\n",
       "1 COUNT_1_10  0    \n",
       "2 COUNT_11_20 69   \n",
       "3 COUNT_21_30 241  \n",
       "4 COUNT_31_40 206  \n",
       "5 COUNT_41_50 209  \n",
       "6 COUNT_51_60 213  "
      ]
     },
     "metadata": {},
     "output_type": "display_data"
    }
   ],
   "source": [
    "Q4DataFrame <- read.csv.sql(\"QAData.csv\",\"Select SUM(CASE WHEN age <= 10 THEN 1 ELSE 0 END) AS COUNT_1_10,\n",
    "                                                 SUM(CASE WHEN age > 10 AND age <= 20 THEN 1 ELSE 0 END) AS COUNT_11_20,\n",
    "                                                 SUM(CASE WHEN age > 20 AND age <= 30 THEN 1 ELSE 0 END) AS COUNT_21_30,\n",
    "                                                 SUM(CASE WHEN age > 30 AND age <= 40 THEN 1 ELSE 0 END) AS COUNT_31_40,\n",
    "                                                 SUM(CASE WHEN age > 40 AND age <= 50 THEN 1 ELSE 0 END) AS COUNT_41_50,\n",
    "                                                 SUM(CASE WHEN age > 50 AND age <= 60 THEN 1 ELSE 0 END) AS COUNT_51_60,\n",
    "                                                 SUM(CASE WHEN age > 60 AND age <= 70 THEN 1 ELSE 0 END) AS COUNT_61_70,\n",
    "                                                 SUM(CASE WHEN age > 70 AND age <= 80 THEN 1 ELSE 0 END) AS COUNT_71_80,\n",
    "                                                 SUM(CASE WHEN age > 80 AND age <= 90 THEN 1 ELSE 0 END) AS COUNT_81_90,\n",
    "                                                 SUM(CASE WHEN age > 90 THEN 1 ELSE 0 END) AS COUNT_91_100Plus\n",
    "                                         FROM file WHERE act87a=1 OR act87b=1\", sep = \",\")\n",
    "Q4DataFrame <- t(Q4DataFrame)\n",
    "colnames(Q4DataFrame) <- c(\"COUNT\")\n",
    "Q4DataFrame <- cbind(AGE_RANGE = rownames(Q4DataFrame),Q4DataFrame)\n",
    "rownames(Q4DataFrame) <- c()\n",
    "Q4DataFrame <- as.data.frame(Q4DataFrame)\n",
    "head(Q4DataFrame)"
   ]
  },
  {
   "cell_type": "markdown",
   "metadata": {},
   "source": [
    "1. Here the records are queried from csv file and in the query conditions have been well defined to avoid any useless or unclean data. \n",
    "2. The ages of the Survey members are split into age groups of 10 and in the query the count of the users falling in that age group is summed up.\n",
    "3. Fields 'act87a' and 'act87a' are used to identify the social media/site users.\n",
    "4. Modifications are done on the data retrieved to make is suitable for plotting"
   ]
  },
  {
   "cell_type": "code",
   "execution_count": 15,
   "metadata": {
    "collapsed": false
   },
   "outputs": [
    {
     "data": {
      "image/png": "[encoded data removed]",
      "text/plain": [
       "Plot with title \"Social Media/Website Users\""
      ]
     },
     "metadata": {},
     "output_type": "display_data"
    }
   ],
   "source": [
    "barplot(as.numeric(as.character(Q4DataFrame$COUNT)),names.arg = c(\"<10\",\"10-20\",\"20-30\",\"30-40\",\"41-50\",\"51-60\",\"61-70\",\"71-80\",\"81-90\",\"90<\"),xlab = \"Age\",ylab = \"Users\",col = \"orange\",\n",
    "main = \"Social Media/Website Users\",border = \"red\")"
   ]
  },
  {
   "cell_type": "markdown",
   "metadata": {},
   "source": [
    "1. Function 'barplot' is used to plot the number of the users against its age group. It can be observed that most of the social media/site users fall between the age of 20 to 70."
   ]
  },
  {
   "cell_type": "markdown",
   "metadata": {},
   "source": [
    "Question 5:\n",
    "-> What is the income of people based on their education"
   ]
  },
  {
   "cell_type": "code",
   "execution_count": 16,
   "metadata": {
    "collapsed": false
   },
   "outputs": [
    {
     "name": "stderr",
     "output_type": "stream",
     "text": [
      "Warning message:\n",
      "\"closing unused connection 4 (QAData.csv)\""
     ]
    },
    {
     "data": {
      "text/html": [
       "<table>\n",
       "<thead><tr><th scope=col>QUALIFICATION</th><th scope=col>INCOME</th><th scope=col>COUNT</th></tr></thead>\n",
       "<tbody>\n",
       "\t<tr><td>No HS  </td><td>0-10k  </td><td>19     </td></tr>\n",
       "\t<tr><td>No HS  </td><td>10-20k </td><td>17     </td></tr>\n",
       "\t<tr><td>No HS  </td><td>20-30k </td><td> 8     </td></tr>\n",
       "\t<tr><td>No HS  </td><td>30-40k </td><td> 1     </td></tr>\n",
       "\t<tr><td>No HS  </td><td>40-50k </td><td> 3     </td></tr>\n",
       "\t<tr><td>No HS  </td><td>50k-75k</td><td> 2     </td></tr>\n",
       "</tbody>\n",
       "</table>\n"
      ],
      "text/latex": [
       "\\begin{tabular}{r|lll}\n",
       " QUALIFICATION & INCOME & COUNT\\\\\n",
       "\\hline\n",
       "\t No HS   & 0-10k   & 19     \\\\\n",
       "\t No HS   & 10-20k  & 17     \\\\\n",
       "\t No HS   & 20-30k  &  8     \\\\\n",
       "\t No HS   & 30-40k  &  1     \\\\\n",
       "\t No HS   & 40-50k  &  3     \\\\\n",
       "\t No HS   & 50k-75k &  2     \\\\\n",
       "\\end{tabular}\n"
      ],
      "text/markdown": [
       "\n",
       "QUALIFICATION | INCOME | COUNT | \n",
       "|---|---|---|---|---|---|\n",
       "| No HS   | 0-10k   | 19      | \n",
       "| No HS   | 10-20k  | 17      | \n",
       "| No HS   | 20-30k  |  8      | \n",
       "| No HS   | 30-40k  |  1      | \n",
       "| No HS   | 40-50k  |  3      | \n",
       "| No HS   | 50k-75k |  2      | \n",
       "\n",
       "\n"
      ],
      "text/plain": [
       "  QUALIFICATION INCOME  COUNT\n",
       "1 No HS         0-10k   19   \n",
       "2 No HS         10-20k  17   \n",
       "3 No HS         20-30k   8   \n",
       "4 No HS         30-40k   1   \n",
       "5 No HS         40-50k   3   \n",
       "6 No HS         50k-75k  2   "
      ]
     },
     "metadata": {},
     "output_type": "display_data"
    }
   ],
   "source": [
    "Q5DataFrame <- read.csv.sql(\"QAData.csv\",\"Select (CASE \n",
    "                                                 WHEN educ2=1 THEN 'No HS' \n",
    "                                                 WHEN educ2=2 THEN 'Incom HS' \n",
    "                                                 WHEN educ2=3 THEN 'HS' \n",
    "                                                 WHEN educ2=4 THEN 'College' \n",
    "                                                 WHEN educ2=5 THEN '2Yrs undergrad' \n",
    "                                                 WHEN educ2=6 THEN '4yrs undergrad' \n",
    "                                                 WHEN educ2=7 THEN 'Grad' \n",
    "                                                 WHEN educ2=8 THEN 'Postgrad' END\n",
    "                                                 ) AS QUALIFICATION,\n",
    "                                                 (CASE \n",
    "                                                     WHEN inc=1 THEN '0-10k'\n",
    "                                                     WHEN inc=2 THEN '10-20k'\n",
    "                                                     WHEN inc=3 THEN '20-30k'\n",
    "                                                     WHEN inc=4 THEN '30-40k'\n",
    "                                                     WHEN inc=5 THEN '40-50k'\n",
    "                                                     WHEN inc=6 THEN '50k-75k' \n",
    "                                                     WHEN inc=7 THEN '75k-100k' \n",
    "                                                     WHEN inc=8 THEN '100k-150k' \n",
    "                                                     WHEN inc=9 THEN '150+' END\n",
    "                                                 ) AS INCOME\n",
    "                                         , COUNT(*) AS COUNT\n",
    "                                         FROM file WHERE \n",
    "                                         educ2!='' AND educ2!=99 AND educ2!=98 AND inc!='' AND inc!=98 AND inc!=99 GROUP BY QUALIFICATION,INCOME ORDER BY educ2,inc\", \n",
    "                            sep = \",\")\n",
    "head(Q5DataFrame)"
   ]
  },
  {
   "cell_type": "markdown",
   "metadata": {},
   "source": [
    "1. We need to identiy the users with their educational backqround and their current income.\n",
    "2. Fields 'educ2' and 'inc' are used to filter records based on education and income respectively."
   ]
  },
  {
   "cell_type": "code",
   "execution_count": 17,
   "metadata": {
    "collapsed": false
   },
   "outputs": [
    {
     "name": "stderr",
     "output_type": "stream",
     "text": [
      "Warning message:\n",
      "\"closing unused connection 6 (QAData.csv)\"Warning message:\n",
      "\"closing unused connection 5 (QAData.csv)\""
     ]
    },
    {
     "data": {},
     "metadata": {},
     "output_type": "display_data"
    },
    {
     "data": {
      "image/png": "[encoded data removed]",
      "text/plain": [
       "plot without title"
      ]
     },
     "metadata": {},
     "output_type": "display_data"
    }
   ],
   "source": [
    "ggplot(Q5DataFrame, aes(x=INCOME, y=COUNT,group=QUALIFICATION)) + \n",
    "  geom_line(data = subset(Q5DataFrame,QUALIFICATION=='No HS'), aes(x = INCOME, y = COUNT, color = \"No HS\")) +\n",
    "  geom_line(data = subset(Q5DataFrame,QUALIFICATION=='Incom HS'), aes(x = INCOME, y = COUNT, color = \"Incom HS\"))  +\n",
    "  geom_line(data = subset(Q5DataFrame,QUALIFICATION=='HS'), aes(x = INCOME, y = COUNT, color = \"HS\"))  +\n",
    "  geom_line(data = subset(Q5DataFrame,QUALIFICATION=='College'), aes(x = INCOME, y = COUNT, color = \"College\"))  +\n",
    "  geom_line(data = subset(Q5DataFrame,QUALIFICATION=='2Yrs undergrad'), aes(x = INCOME, y = COUNT, color = \"2Yrs undergrad\"))  +\n",
    "  geom_line(data = subset(Q5DataFrame,QUALIFICATION=='4yrs undergrad'), aes(x = INCOME, y = COUNT, color = \"4yrs undergrad\"))  +\n",
    "  geom_line(data = subset(Q5DataFrame,QUALIFICATION=='Grad'), aes(x = INCOME, y = COUNT, color = \"Grad\"))  +\n",
    "  geom_line(data = subset(Q5DataFrame,QUALIFICATION=='Postgrad'), aes(x = INCOME, y = COUNT, color = \"Postgrad\"))  +\n",
    "  xlab('Income') +\n",
    "  ylab('Number Of People')"
   ]
  },
  {
   "cell_type": "markdown",
   "metadata": {},
   "source": [
    "1. A line graph is plotted using ggplot and geom_line.\n",
    "2. Each colored line representing the education qualification, with X axis as the income range and Y axis as the number of members.\n",
    "3. This graph is plotted for three columns and helps us to make an observation that higher the education better is the income."
   ]
  },
  {
   "cell_type": "markdown",
   "metadata": {},
   "source": [
    "Question 6:\n",
    "-> I dentify supporters for Republican, democrat and independent parties. Plot the information based on the supporters gender and race."
   ]
  },
  {
   "cell_type": "code",
   "execution_count": 18,
   "metadata": {
    "collapsed": false
   },
   "outputs": [
    {
     "name": "stderr",
     "output_type": "stream",
     "text": [
      "Warning message:\n",
      "\"closing unused connection 4 (QAData.csv)\""
     ]
    },
    {
     "data": {
      "text/html": [
       "<table>\n",
       "<thead><tr><th scope=col>GENDER</th><th scope=col>PARTY</th><th scope=col>RACE</th><th scope=col>SUPPORTERS</th></tr></thead>\n",
       "<tbody>\n",
       "\t<tr><td>FEMALE  </td><td>Repub   </td><td>White   </td><td>213     </td></tr>\n",
       "\t<tr><td>FEMALE  </td><td>Repub   </td><td>Black_AA</td><td> 10     </td></tr>\n",
       "\t<tr><td>FEMALE  </td><td>Repub   </td><td>Asian_PI</td><td>  6     </td></tr>\n",
       "\t<tr><td>FEMALE  </td><td>Repub   </td><td>Mixed   </td><td>  1     </td></tr>\n",
       "\t<tr><td>FEMALE  </td><td>Repub   </td><td>Native  </td><td>  1     </td></tr>\n",
       "\t<tr><td>FEMALE  </td><td>Repub   </td><td>Other   </td><td>  2     </td></tr>\n",
       "</tbody>\n",
       "</table>\n"
      ],
      "text/latex": [
       "\\begin{tabular}{r|llll}\n",
       " GENDER & PARTY & RACE & SUPPORTERS\\\\\n",
       "\\hline\n",
       "\t FEMALE   & Repub    & White    & 213     \\\\\n",
       "\t FEMALE     & Repub      & Black\\_AA &  10       \\\\\n",
       "\t FEMALE     & Repub      & Asian\\_PI &   6       \\\\\n",
       "\t FEMALE   & Repub    & Mixed    &   1     \\\\\n",
       "\t FEMALE   & Repub    & Native   &   1     \\\\\n",
       "\t FEMALE   & Repub    & Other    &   2     \\\\\n",
       "\\end{tabular}\n"
      ],
      "text/markdown": [
       "\n",
       "GENDER | PARTY | RACE | SUPPORTERS | \n",
       "|---|---|---|---|---|---|\n",
       "| FEMALE   | Repub    | White    | 213      | \n",
       "| FEMALE   | Repub    | Black_AA |  10      | \n",
       "| FEMALE   | Repub    | Asian_PI |   6      | \n",
       "| FEMALE   | Repub    | Mixed    |   1      | \n",
       "| FEMALE   | Repub    | Native   |   1      | \n",
       "| FEMALE   | Repub    | Other    |   2      | \n",
       "\n",
       "\n"
      ],
      "text/plain": [
       "  GENDER PARTY RACE     SUPPORTERS\n",
       "1 FEMALE Repub White    213       \n",
       "2 FEMALE Repub Black_AA  10       \n",
       "3 FEMALE Repub Asian_PI   6       \n",
       "4 FEMALE Repub Mixed      1       \n",
       "5 FEMALE Repub Native     1       \n",
       "6 FEMALE Repub Other      2       "
      ]
     },
     "metadata": {},
     "output_type": "display_data"
    }
   ],
   "source": [
    "Q6DataFrame <- read.csv.sql(\"QAData.csv\",\"Select (CASE \n",
    "                                                    WHEN sex=1 THEN 'MALE' \n",
    "                                                    WHEN sex=2 THEN 'FEMALE' END\n",
    "                                                 ) AS GENDER,\n",
    "                                                 (CASE\n",
    "                                                    WHEN party=1 THEN 'Repub'\n",
    "                                                    WHEN party=2 THEN 'Democr'\n",
    "                                                    WHEN party=3 THEN 'Indepen' END\n",
    "                                                 )AS PARTY,\n",
    "                                                 (CASE\n",
    "                                                    WHEN race=1 THEN 'White'\n",
    "                                                    WHEN race=2 THEN 'Black_AA'\n",
    "                                                    WHEN race=3 THEN 'Asian_PI'\n",
    "                                                    WHEN race=4 THEN 'Mixed'\n",
    "                                                    WHEN race=5 THEN 'Native'\n",
    "                                                    WHEN race=6 THEN 'Other' END\n",
    "                                                 )AS RACE, COUNT(*) AS SUPPORTERS\n",
    "                                          FROM file WHERE race!=8 AND race!=9 AND party IN (1,2,3) AND sex!='' GROUP BY GENDER, PARTY, RACE\")\n",
    "head(Q6DataFrame)"
   ]
  },
  {
   "cell_type": "markdown",
   "metadata": {},
   "source": [
    "1. Here the data is queried from the csv file and the appropriate conditions are added to avoid any useless and unclean data.\n",
    "2. Below are the fields used for this question:\n",
    "    i.   'Sex' is used to identify the gender of the supporter.\n",
    "    ii.  'party' is used to identify the party supported by the user.\n",
    "    iii. 'race' is used to identify the race of the user\n",
    "3. Group By clause is used for better structuring of the data."
   ]
  },
  {
   "cell_type": "code",
   "execution_count": 19,
   "metadata": {
    "collapsed": false
   },
   "outputs": [
    {
     "name": "stderr",
     "output_type": "stream",
     "text": [
      "Warning message:\n",
      "\"closing unused connection 5 (QAData.csv)\""
     ]
    },
    {
     "data": {},
     "metadata": {},
     "output_type": "display_data"
    },
    {
     "data": {
      "image/png": "[encoded data removed]",
      "text/plain": [
       "plot without title"
      ]
     },
     "metadata": {},
     "output_type": "display_data"
    }
   ],
   "source": [
    "ggplot(Q6DataFrame, aes(x = PARTY, y = SUPPORTERS, fill = GENDER)) +\n",
    "    geom_bar(position = \"stack\", stat = \"identity\") +\n",
    "    facet_wrap( ~ RACE)"
   ]
  },
  {
   "cell_type": "markdown",
   "metadata": {
    "collapsed": true
   },
   "source": [
    "1. A merged bar chart is used to plot the data from the four columns.\n",
    "2. Graph is plotted with X axis representing the party supported by the user and Y axis as the count of the supporters.\n",
    "3. Each section representing the race of the supporters. \n",
    "4. Stacked bar helps to understand the gender split of the supporters."
   ]
  }
 ],
 "metadata": {
  "kernelspec": {
   "display_name": "R",
   "language": "R",
   "name": "ir"
  },
  "language_info": {
   "codemirror_mode": "r",
   "file_extension": ".r",
   "mimetype": "text/x-r-source",
   "name": "R",
   "pygments_lexer": "r",
   "version": "3.3.2"
  }
 },
 "nbformat": 4,
 "nbformat_minor": 2
}
