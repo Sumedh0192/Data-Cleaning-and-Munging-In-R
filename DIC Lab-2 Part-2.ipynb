{
 "cells": [
  {
   "cell_type": "code",
   "execution_count": 1,
   "metadata": {
    "collapsed": false
   },
   "outputs": [
    {
     "name": "stderr",
     "output_type": "stream",
     "text": [
      "Installing package into 'C:/Users/User/Documents/R/win-library/3.3'\n",
      "(as 'lib' is unspecified)\n"
     ]
    },
    {
     "name": "stdout",
     "output_type": "stream",
     "text": [
      "package 'XML' successfully unpacked and MD5 sums checked\n",
      "\n",
      "The downloaded binary packages are in\n",
      "\tC:\\Users\\User\\AppData\\Local\\Temp\\RtmpQZPv70\\downloaded_packages\n"
     ]
    }
   ],
   "source": [
    "install.packages('XML', repos='https://cran.r-project.org/')\n",
    "library(XML)"
   ]
  },
  {
   "cell_type": "markdown",
   "metadata": {},
   "source": [
    "1. Installing required packages"
   ]
  },
  {
   "cell_type": "code",
   "execution_count": 2,
   "metadata": {
    "collapsed": false,
    "scrolled": true
   },
   "outputs": [],
   "source": [
    "url <- \"http://aiweb.cs.washington.edu/research/projects/xmltk/xmldata/data/courses/reed.xml\"\n",
    "xmldata <- xmlParse(url)"
   ]
  },
  {
   "cell_type": "markdown",
   "metadata": {},
   "source": [
    "1. Adding the packages to the library"
   ]
  },
  {
   "cell_type": "code",
   "execution_count": 4,
   "metadata": {
    "collapsed": false
   },
   "outputs": [],
   "source": [
    "xmlDataFrame <- data.frame(reg_num = xpathSApply(xmldata, \"//reg_num\",xmlValue),\n",
    "                           subj = xpathSApply(xmldata, \"//subj\",xmlValue),\n",
    "                           crse = xpathSApply(xmldata, \"//crse\",xmlValue),\n",
    "                           sect = xpathSApply(xmldata, \"//sect\",xmlValue),\n",
    "                           title = xpathSApply(xmldata, \"//title\",xmlValue),\n",
    "                           units = xpathSApply(xmldata, \"//units\",xmlValue),\n",
    "                           instructor = xpathSApply(xmldata, \"//instructor\",xmlValue),\n",
    "                           days = xpathSApply(xmldata, \"//days\",xmlValue),\n",
    "                           start_time = xpathSApply(xmldata, \"//start_time\",xmlValue),\n",
    "                           end_time = xpathSApply(xmldata, \"//end_time\",xmlValue),\n",
    "                           building = xpathSApply(xmldata, \"//building\",xmlValue),\n",
    "                           room = xpathSApply(xmldata, \"//room\",xmlValue))"
   ]
  },
  {
   "cell_type": "markdown",
   "metadata": {},
   "source": [
    "1. Created a dataframe by merging individual xml tags by identifying its path."
   ]
  },
  {
   "cell_type": "code",
   "execution_count": 5,
   "metadata": {
    "collapsed": true
   },
   "outputs": [],
   "source": [
    "write.csv(xmlDataFrame, file = \"WashingtonUniversityDataSetCSV.csv\")"
   ]
  },
  {
   "cell_type": "markdown",
   "metadata": {},
   "source": [
    "1. Writing the dataframe to a csv file."
   ]
  }
 ],
 "metadata": {
  "kernelspec": {
   "display_name": "R",
   "language": "R",
   "name": "ir"
  },
  "language_info": {
   "codemirror_mode": "r",
   "file_extension": ".r",
   "mimetype": "text/x-r-source",
   "name": "R",
   "pygments_lexer": "r",
   "version": "3.3.2"
  }
 },
 "nbformat": 4,
 "nbformat_minor": 2
}
