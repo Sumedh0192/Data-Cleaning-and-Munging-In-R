{
 "cells": [
  {
   "cell_type": "code",
   "execution_count": 1,
   "metadata": {
    "collapsed": false
   },
   "outputs": [
    {
     "name": "stderr",
     "output_type": "stream",
     "text": [
      "Installing package into 'C:/Users/User/Documents/R/win-library/3.3'\n",
      "(as 'lib' is unspecified)\n"
     ]
    },
    {
     "name": "stdout",
     "output_type": "stream",
     "text": [
      "package 'RSQLite' successfully unpacked and MD5 sums checked\n",
      "\n",
      "The downloaded binary packages are in\n",
      "\tC:\\Users\\User\\AppData\\Local\\Temp\\RtmpQjnTXW\\downloaded_packages\n"
     ]
    },
    {
     "name": "stderr",
     "output_type": "stream",
     "text": [
      "Installing package into 'C:/Users/User/Documents/R/win-library/3.3'\n",
      "(as 'lib' is unspecified)\n"
     ]
    },
    {
     "name": "stdout",
     "output_type": "stream",
     "text": [
      "package 'sqldf' successfully unpacked and MD5 sums checked\n",
      "\n",
      "The downloaded binary packages are in\n",
      "\tC:\\Users\\User\\AppData\\Local\\Temp\\RtmpQjnTXW\\downloaded_packages\n"
     ]
    }
   ],
   "source": [
    "install.packages('RSQLite', repos='https://cran.r-project.org/')\n",
    "install.packages('sqldf', repos='https://cran.r-project.org/')"
   ]
  },
  {
   "cell_type": "markdown",
   "metadata": {},
   "source": [
    "1. Installing required packages"
   ]
  },
  {
   "cell_type": "code",
   "execution_count": 2,
   "metadata": {
    "collapsed": false
   },
   "outputs": [
    {
     "name": "stderr",
     "output_type": "stream",
     "text": [
      "Warning message:\n",
      "\"package 'RSQLite' was built under R version 3.3.3\"Warning message:\n",
      "\"package 'sqldf' was built under R version 3.3.3\"Loading required package: gsubfn\n",
      "Warning message:\n",
      "\"package 'gsubfn' was built under R version 3.3.3\"Loading required package: proto\n",
      "Could not load tcltk.  Will use slower R code instead.\n"
     ]
    }
   ],
   "source": [
    "library(RSQLite)\n",
    "library(sqldf)"
   ]
  },
  {
   "cell_type": "markdown",
   "metadata": {},
   "source": [
    "1. Adding the packages to the library"
   ]
  },
  {
   "cell_type": "code",
   "execution_count": 3,
   "metadata": {
    "collapsed": false
   },
   "outputs": [
    {
     "name": "stdout",
     "output_type": "stream",
     "text": [
      "[1] \"Country\"           \"League\"            \"Match\"            \n",
      "[4] \"Player\"            \"Player_Attributes\" \"Team\"             \n",
      "[7] \"Team_Attributes\"   \"sqlite_sequence\"  \n"
     ]
    }
   ],
   "source": [
    "con = dbConnect(SQLite(), dbname=\"database.sqlite\")\n",
    "alltables = dbListTables(con)\n",
    "show(alltables)"
   ]
  },
  {
   "cell_type": "markdown",
   "metadata": {},
   "source": [
    "1. Connect to the provided database using RSQLite dbconnect"
   ]
  },
  {
   "cell_type": "code",
   "execution_count": 4,
   "metadata": {
    "collapsed": false
   },
   "outputs": [],
   "source": [
    "playersData <- dbGetQuery( con,\"SELECT DISTINCT REPLACE(P.player_name,',',' ') AS player_name, P.player_api_id, MAX(PA.overall_rating) AS overall_rating,\n",
    "                MAX(PA.gk_diving + gk_handling + gk_kicking + gk_positioning + gk_reflexes) AS gk_attr_total, \n",
    "                Games.GamesPlayed AS games_played, Games.LeaguesPlayed AS leagues_played\n",
    "                FROM Player P\n",
    "                INNER JOIN Player_Attributes AS PA\n",
    "                ON P.player_api_id=PA.player_api_id \n",
    "                INNER JOIN (\n",
    "                SELECT P.player_name, P.player_api_id, COUNT(*) AS GamesPlayed, COUNT(DISTINCT M.league_id) AS LeaguesPlayed\n",
    "\t\t\t\t\tFROM Player P\n",
    "\t\t\t\t\tINNER JOIN Match AS M\n",
    "\t\t\t\t\tON  M.away_player_1=P.player_api_id OR M.away_player_2=P.player_api_id OR M.away_player_3=P.player_api_id OR \n",
    "                        M.away_player_4=P.player_api_id OR M.away_player_5=P.player_api_id OR M.away_player_6=P.player_api_id OR \n",
    "                        M.away_player_7=P.player_api_id OR M.away_player_8=P.player_api_id OR M.away_player_9=P.player_api_id OR\n",
    "                        M.away_player_10=P.player_api_id OR M.away_player_11=P.player_api_id OR M.home_player_1=P.player_api_id OR\n",
    "                        M.home_player_2=P.player_api_id OR M.home_player_3=P.player_api_id OR M.home_player_4=P.player_api_id OR\n",
    "                        M.home_player_5=P.player_api_id OR M.home_player_6=P.player_api_id OR M.home_player_7=P.player_api_id OR\n",
    "                        M.home_player_8=P.player_api_id OR M.home_player_9=P.player_api_id OR M.home_player_10=P.player_api_id OR\n",
    "                        M.home_player_11=P.player_api_id\n",
    "\t\t\t\t\tGROUP BY P.player_api_id\n",
    "                    ORDER BY GamesPlayed DESC) AS Games\n",
    "                ON Games.player_api_id = P.player_api_id\n",
    "                GROUP BY P.player_api_id\")"
   ]
  },
  {
   "cell_type": "markdown",
   "metadata": {},
   "source": [
    "1. A cummulative query has been created to fetch all the relevant data related to Players.\n",
    "2. The query fetchs player attributes like overall rating, total games played etc."
   ]
  },
  {
   "cell_type": "code",
   "execution_count": 5,
   "metadata": {
    "collapsed": false
   },
   "outputs": [],
   "source": [
    "teamData <- dbGetQuery( con,\"SELECT DISTINCT REPLACE(T.team_long_name,',',' ') AS team_name, T.team_api_id, GOALTABLE.TotalGoals AS total_goals_scored,\n",
    "                MAX(IFNULL(TA.buildUpPlaySpeed,0) + IFNULL(TA.buildUpPlayDribbling,0) + IFNULL(TA.buildUpPlayPassing,0)) AS buildup_attr_total,\n",
    "                MAX(IFNULL(TA.chanceCreationPassing,0) + IFNULL(TA.chanceCreationCrossing,0) + IFNULL(TA.chanceCreationShooting,0)) AS chance_creation_total,\n",
    "                MAX(IFNULL(TA.defencePressure,0) + IFNULL(TA.defenceAggression,0) + IFNULL(TA.defenceTeamWidth,0)) AS defense_attr_total\n",
    "                FROM Team T\n",
    "                LEFT JOIN Team_Attributes AS TA\n",
    "                ON T.team_api_id=TA.team_api_id\n",
    "                INNER JOIN (SELECT DISTINCT T.team_long_name, T.team_api_id, \n",
    "                SUM(CASE \n",
    "                    WHEN T.team_api_id=M.away_team_api_id THEN M.away_team_goal ELSE M.home_team_goal END\n",
    "                ) AS TotalGoals\n",
    "                FROM Team T\n",
    "                INNER JOIN Match AS M\n",
    "                ON T.team_api_id=M.away_team_api_id OR T.team_api_id=M.home_team_api_id\n",
    "                GROUP BY T.team_api_id) AS GOALTABLE\n",
    "                ON GOALTABLE.team_api_id = T.team_api_id\n",
    "                GROUP BY T.team_api_id\")"
   ]
  },
  {
   "cell_type": "markdown",
   "metadata": {},
   "source": [
    "1. A cummulative query has been created to fetch all the relevant data related to Teams.\n",
    "2. The query fetchs attributes like total build up attributes, total goals scored etc."
   ]
  },
  {
   "cell_type": "code",
   "execution_count": 6,
   "metadata": {
    "collapsed": true
   },
   "outputs": [],
   "source": [
    "write.csv(playersData, file = \"Players.csv\", row.names=FALSE)\n",
    "write.csv(teamData, file = \"Teams.csv\", row.names=FALSE)"
   ]
  },
  {
   "cell_type": "markdown",
   "metadata": {},
   "source": [
    "1. The queried results are written into a csv file for answering questions."
   ]
  }
 ],
 "metadata": {
  "kernelspec": {
   "display_name": "R",
   "language": "R",
   "name": "ir"
  },
  "language_info": {
   "codemirror_mode": "r",
   "file_extension": ".r",
   "mimetype": "text/x-r-source",
   "name": "R",
   "pygments_lexer": "r",
   "version": "3.3.2"
  }
 },
 "nbformat": 4,
 "nbformat_minor": 2
}
